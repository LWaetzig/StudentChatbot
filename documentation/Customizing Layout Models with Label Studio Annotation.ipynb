{
 "cells": [
  {
   "cell_type": "markdown",
   "metadata": {},
   "source": [
    "# Customizing LayoutParser Models with Label Studio Annotation\n",
    "*With Scientific Document Parsing as an example*\n",
    "\n",
    "based on: [Layout-Parser](https://github.com/Layout-Parser/layout-parser/blob/main/examples/Customizing%20Layout%20Models%20with%20Label%20Studio%20Annotation/Customizing%20Layout%20Models%20with%20Label%20Studio%20Annotation.ipynb)"
   ]
  },
  {
   "cell_type": "markdown",
   "metadata": {},
   "source": [
    "## Prerequisite\n",
    "\n",
    "This tutorial assumes you know about \n",
    "\n",
    "- Intermediate Python  "
   ]
  },
  {
   "cell_type": "markdown",
   "metadata": {},
   "source": [
    "## Introduction \n",
    "\n",
    "### Objectives & Task Overview \n",
    "\n",
    "Please see the attached slides [here](https://szj.io/assets/files/talks/2022-Feb-LayoutParser-and-Label-Studio-Webinar.pdf). \n",
    "\n",
    "### Detailed Steps \n",
    "\n",
    "1. **Define the problem**\n",
    "    - What is the extraction target? \n",
    "    - What can existing models do? \n",
    "    - Do we have available dataset? \n",
    "2. **Create the Training Dataset**\n",
    "    - Obtain the datasets \n",
    "    - Set up Label Studio \n",
    "    - Define the Annotation Schema  \n",
    "    - Annotate and Save \n",
    "3. **Train Layout Models**\n",
    "    - Set up the Machines \n",
    "    - Train Test Split \n",
    "    - Run the LayoutPaser Model Training script\n",
    "4. **Utilize New Layout Models**\n",
    "    - Load Layout Models \n",
    "    - Parse the outputs based on Layout Models \n"
   ]
  },
  {
   "cell_type": "markdown",
   "metadata": {},
   "source": [
    "## I. Define the Problem "
   ]
  },
  {
   "cell_type": "markdown",
   "metadata": {},
   "source": [
    "### Extraction Target \n",
    "\n",
    "Bibliogrophy item parsing is an important task in scientific document understanding. We want to extract individual bibliogrophy items from the source documents. For example, for the page on the left, we'd like to segment it into \"blocks\" shown on the right. "
   ]
  },
  {
   "cell_type": "markdown",
   "metadata": {},
   "source": [
    "### Existing Models \n",
    "\n",
    "The PubLayNet models maybe the most straightfoward ones to try with: "
   ]
  },
  {
   "cell_type": "code",
   "execution_count": 1,
   "metadata": {},
   "outputs": [],
   "source": [
    "import requests\n",
    "import layoutparser as lp"
   ]
  },
  {
   "cell_type": "code",
   "execution_count": 2,
   "metadata": {},
   "outputs": [],
   "source": [
    "pdf_tokens, pdf_images = lp.load_pdf(r\"path_to_pdf\", load_images=True)"
   ]
  },
  {
   "cell_type": "markdown",
   "metadata": {},
   "source": [
    "Find a model from the [LayoutParser Open Platform](https://layout-parser.github.io/platform/)"
   ]
  },
  {
   "cell_type": "markdown",
   "metadata": {},
   "source": [
    "### Existing Datasets? \n",
    "\n",
    ":( "
   ]
  },
  {
   "cell_type": "markdown",
   "metadata": {},
   "source": [
    "## II. Create a Training Dataset"
   ]
  },
  {
   "cell_type": "markdown",
   "metadata": {},
   "source": [
    "### Obtain the Source Data \n"
   ]
  },
  {
   "cell_type": "markdown",
   "metadata": {},
   "source": [
    "### Set up Label Studio \n",
    "\n",
    "Please follow the instructions on the [Label Studio Github Repo](https://github.com/heartexlabs/label-studio). I used the following configurations for setting up the annotation task. \n",
    "\n",
    "```bash \n",
    "# Installation \n",
    "git clone https://github.com/heartexlabs/label-studio.git\n",
    "pip install -e .\n",
    "\n",
    "# Starting the service \n",
    "python label_studio/manage.py migrate\n",
    "python label_studio/manage.py runserver\n",
    "```\n",
    "\n",
    "After starting Label Studio on your local machine, you can click [here](http://localhost:8080/) for the running service.\n",
    "\n",
    "Also here is the used labelstudio interface config:\n",
    "\n",
    "```html\n",
    "<View style=\"display: flex;\">\n",
    "  <View style=\"width: 600px\">\n",
    "    <Image name=\"image\" value=\"$image\"/>\n",
    "  </View>\n",
    "  \n",
    "  <View style=\"width: 150px; padding: 0 1em; margin-right: 0.5em; background: #f1f1f1; border-radius: 3px\">\n",
    "  <RectangleLabels name=\"label\" toName=\"image\">\n",
    "    <Label value=\"BibItem\" background=\"#FFA39E\"></Label>\n",
    "  </RectangleLabels>\n",
    "  </View>\n",
    "</View>\n",
    "```"
   ]
  },
  {
   "cell_type": "markdown",
   "metadata": {},
   "source": [
    "### Downlaod the Annotation Examples  "
   ]
  },
  {
   "cell_type": "markdown",
   "metadata": {},
   "source": [
    "You can run `download_annotation.py` in this folder to download the annotation data:\n",
    "\n",
    "```bash\n",
    "# pip install layoutparser\n",
    "python download_annotation.py \n",
    "```\n",
    "\n",
    "It will download a small subset of data for demostration purpose, and you might need to label more samples in practice to train a better model. "
   ]
  },
  {
   "cell_type": "markdown",
   "metadata": {},
   "source": [
    "### Check the Annotated Data "
   ]
  },
  {
   "cell_type": "markdown",
   "metadata": {},
   "source": [
    "The script is based on this [layout parser example tutorial](https://layout-parser.readthedocs.io/en/latest/example/load_coco/index.html)."
   ]
  },
  {
   "cell_type": "code",
   "execution_count": 7,
   "metadata": {},
   "outputs": [],
   "source": [
    "from pycocotools.coco import COCO\n",
    "import layoutparser as lp\n",
    "import random\n",
    "import cv2\n",
    "\n",
    "\n",
    "def load_coco_annotations(annotations, coco=None):\n",
    "    \"\"\"\n",
    "    Args:\n",
    "        annotations (List):\n",
    "            a list of coco annotaions for the current image\n",
    "        coco (`optional`, defaults to `False`):\n",
    "            COCO annotation object instance. If set, this function will\n",
    "            convert the loaded annotation category ids to category names\n",
    "            set in COCO.categories\n",
    "    \"\"\"\n",
    "    layout = lp.Layout()\n",
    "\n",
    "    for ele in annotations:\n",
    "        x, y, w, h = ele[\"bbox\"]\n",
    "\n",
    "        layout.append(\n",
    "            lp.TextBlock(\n",
    "                block=lp.Rectangle(x, y, w + x, h + y),\n",
    "                type=ele[\"category_id\"]\n",
    "                if coco is None\n",
    "                else coco.cats[ele[\"category_id\"]][\"name\"],\n",
    "                id=ele[\"id\"],\n",
    "            )\n",
    "        )\n",
    "\n",
    "    return layout"
   ]
  },
  {
   "cell_type": "code",
   "execution_count": 15,
   "metadata": {},
   "outputs": [
    {
     "name": "stdout",
     "output_type": "stream",
     "text": [
      "loading annotations into memory...\n",
      "Done (t=0.00s)\n",
      "creating index...\n",
      "index created!\n"
     ]
    }
   ],
   "source": [
    "COCO_ANNO_PATH = \"project-2-at-2024-01-21-15-34-564ef14c/result.json\"\n",
    "COCO_IMG_PATH = \"project-2-at-2024-01-21-15-34-564ef14c/\"\n",
    "\n",
    "coco = COCO(COCO_ANNO_PATH)"
   ]
  },
  {
   "cell_type": "code",
   "execution_count": null,
   "metadata": {
    "tags": []
   },
   "outputs": [],
   "source": [
    "for image_id in random.sample(coco.imgs.keys(), 2):\n",
    "    image_info = coco.imgs[image_id]\n",
    "    annotations = coco.loadAnns(coco.getAnnIds([image_id]))\n",
    "\n",
    "    image = cv2.imread(f'{COCO_IMG_PATH}/{image_info[\"file_name\"]}')\n",
    "    layout = load_coco_annotations(annotations, coco)\n",
    "\n",
    "    viz = lp.draw_box(image[..., ::-1], layout)\n",
    "    display(viz)  # show the results"
   ]
  },
  {
   "cell_type": "markdown",
   "metadata": {},
   "source": [
    "### [Optional] Define the Annotation Schema \n",
    "\n",
    "- Rethink why models are needed? \n",
    "- Labeling Schema\n",
    "  - Go through examples\n",
    "    - Gather >30 diverse examples from the task\n",
    "    - Go through them and take notes \n",
    "      - Keep an eye on what are the uniquely different types of segments to be predicted?\n",
    "  - Define the classes \n",
    "    - Write definition based on visual features as clear as you can \n",
    "      - Good example:\n",
    "        - The title block should be a short piece of bold text; it usually have one line or two; it usually appear at the first page of the document \n",
    "      - Bad example:\n",
    "        - Annotate the document title region as a title block \n",
    "    - Add image examples \n",
    "      - If possible, also include ambiguous or counter examples "
   ]
  },
  {
   "cell_type": "markdown",
   "metadata": {},
   "source": [
    "### [Optional] Advanced Topic: Active Learning \n",
    "\n",
    "You can find more about this topic in [our recent paper](https://arxiv.org/pdf/2010.01762.pdf)."
   ]
  },
  {
   "cell_type": "markdown",
   "metadata": {},
   "source": [
    "## III. Layout Model Training "
   ]
  },
  {
   "cell_type": "markdown",
   "metadata": {},
   "source": [
    "```bash\n",
    "git clone git@github.com:Layout-Parser/layout-model-training.git\n",
    "```"
   ]
  },
  {
   "cell_type": "markdown",
   "metadata": {},
   "source": [
    "### Train-Test Split \n",
    "\n",
    "```bash\n",
    "python cocosplit.py \\                                  \n",
    "    --annotation-path     ../data/bib/result.json \\\n",
    "    --split-ratio         0.85 \\\n",
    "    --train               ../data/bib/train.json \\\n",
    "    --test                ../data/bib/test.json \n",
    "```"
   ]
  },
  {
   "cell_type": "markdown",
   "metadata": {},
   "source": [
    "### Run Training \n",
    "\n",
    "1. Modify the `train_bib.sh` script \n",
    "2. Run the following command\n",
    "\n",
    "    ```bash\n",
    "    bash train_bib.sh\n",
    "    ```"
   ]
  },
  {
   "cell_type": "markdown",
   "metadata": {},
   "source": [
    "## IV. Use of the Layout Models "
   ]
  },
  {
   "cell_type": "markdown",
   "metadata": {},
   "source": [
    "### Load Newly Trained Layout Models "
   ]
  },
  {
   "cell_type": "code",
   "execution_count": 3,
   "metadata": {},
   "outputs": [],
   "source": [
    "model = lp.Detectron2LayoutModel(\n",
    "    config_path=r\"config.yaml\",\n",
    "    model_path=r\"model_final.pth\",\n",
    "    extra_config=[\n",
    "        \"MODEL.ROI_HEADS.SCORE_THRESH_TEST\",\n",
    "        0.3,\n",
    "    ],  # <-- Only output high accuracy preds\n",
    ")"
   ]
  },
  {
   "cell_type": "code",
   "execution_count": 17,
   "metadata": {},
   "outputs": [],
   "source": [
    "layout = model.detect(pdf_images[15])"
   ]
  },
  {
   "cell_type": "code",
   "execution_count": null,
   "metadata": {},
   "outputs": [],
   "source": [
    "test = lp.draw_box(pdf_images[15], layout)\n",
    "display(test)"
   ]
  },
  {
   "cell_type": "code",
   "execution_count": 7,
   "metadata": {},
   "outputs": [
    {
     "data": {
      "text/plain": [
       "Layout(_blocks=[TextBlock(block=Rectangle(x_1=15.691393852233887, y_1=37.28899002075195, x_2=208.55654907226562, y_2=60.11865997314453), text=None, id=None, type=4, parent=None, next=None, score=0.9857314229011536), TextBlock(block=Rectangle(x_1=83.22724151611328, y_1=78.81568908691406, x_2=371.7296447753906, y_2=225.29080200195312), text=None, id=None, type=3, parent=None, next=None, score=0.983454704284668), TextBlock(block=Rectangle(x_1=25.990421295166016, y_1=36.921165466308594, x_2=121.41744232177734, y_2=61.599037170410156), text=None, id=None, type=4, parent=None, next=None, score=0.6273447871208191), TextBlock(block=Rectangle(x_1=111.0645751953125, y_1=0.0, x_2=325.71881103515625, y_2=41.746437072753906), text=None, id=None, type=2, parent=None, next=None, score=0.4274088740348816), TextBlock(block=Rectangle(x_1=63.46232604980469, y_1=245.16502380371094, x_2=405.21820068359375, y_2=255.99998474121094), text=None, id=None, type=1, parent=None, next=None, score=0.32804691791534424)], page_data={})"
      ]
     },
     "execution_count": 7,
     "metadata": {},
     "output_type": "execute_result"
    }
   ],
   "source": [
    "layout"
   ]
  }
 ],
 "metadata": {
  "interpreter": {
   "hash": "ba9dd49ad2f359a64df0aa3f7d31e9127bb84b1d1d2a21e15d00155369c5e9e8"
  },
  "kernelspec": {
   "display_name": "Python 3 (ipykernel)",
   "language": "python",
   "name": "python3"
  },
  "language_info": {
   "codemirror_mode": {
    "name": "ipython",
    "version": 3
   },
   "file_extension": ".py",
   "mimetype": "text/x-python",
   "name": "python",
   "nbconvert_exporter": "python",
   "pygments_lexer": "ipython3",
   "version": "3.10.9"
  }
 },
 "nbformat": 4,
 "nbformat_minor": 4
}
